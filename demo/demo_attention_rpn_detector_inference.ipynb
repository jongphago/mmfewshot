{
 "cells": [
  {
   "cell_type": "code",
   "execution_count": null,
   "metadata": {},
   "outputs": [],
   "source": [
    "import os\n",
    "from argparse import ArgumentParser\n",
    "from mmdet.apis import show_result_pyplot\n",
    "from mmfewshot.detection.apis import (\n",
    "    inference_detector,\n",
    "    init_detector,\n",
    "    process_support_images,\n",
    ")"
   ]
  },
  {
   "cell_type": "code",
   "execution_count": null,
   "metadata": {},
   "outputs": [],
   "source": [
    "import numpy as np\n",
    "from easydict import EasyDict as edict\n",
    "from PIL import Image"
   ]
  },
  {
   "cell_type": "code",
   "execution_count": null,
   "metadata": {},
   "outputs": [],
   "source": [
    "idx = 1\n",
    "image_path = f\"/home/jongphago/mmfewshot/data/fsod/mf_210223/images/x{idx:03d}.JPG\"\n",
    "size = Image.open(image_path).size\n",
    "\n",
    "args = edict(\n",
    "    {\n",
    "        \"support_images_dir\": \"/home/jongphago/mmfewshot/demo/demo_detection_images/support_images_2\",\n",
    "        # \"image\": \"/home/jongphago/mmfewshot/demo/demo_detection_images/query_images/query_manhole.jpg\",\n",
    "        \"image\": image_path,\n",
    "        \"label\": f\"/home/jongphago/mmfewshot/data/fsod/mf_210223/labels/x{idx:03d}.txt\",\n",
    "        \"size\":size,\n",
    "        \"config\": \"/home/jongphago/mmfewshot/configs/detection/attention_rpn/coco/attention-rpn_r50_c4_4xb2_coco_base-training.py\",\n",
    "        \"checkpoint\": \"/home/jongphago/mmfewshot/work_dirs/attention-rpn_r50_c4_4xb2_coco_base-training_20211102_003348-da28cdfd.pth\",\n",
    "        \"score_thr\": 0.2,\n",
    "        \"device\": \"cuda:0\",\n",
    "    }\n",
    ")"
   ]
  },
  {
   "cell_type": "code",
   "execution_count": null,
   "metadata": {},
   "outputs": [],
   "source": [
    "def main(args):\n",
    "    # build the model from a config file and a checkpoint file\n",
    "    model = init_detector(args.config, args.checkpoint, device=args.device)\n",
    "    # prepare support images, each demo image only contain one instance\n",
    "    files = os.listdir(args.support_images_dir)\n",
    "    support_images = [os.path.join(args.support_images_dir, file) for file in files]\n",
    "    classes = [file.split(\".\")[0] for file in files]\n",
    "    support_labels = [[file.split(\".\")[0]] for file in files]\n",
    "    process_support_images(model, support_images, support_labels, classes=classes)\n",
    "    # test a single image\n",
    "    result = inference_detector(model, args.image)\n",
    "    # show the results\n",
    "    show_result_pyplot(model, args.image, result, score_thr=args.score_thr)\n",
    "    return result"
   ]
  },
  {
   "cell_type": "code",
   "execution_count": null,
   "metadata": {},
   "outputs": [],
   "source": [
    "result = main(args)\n",
    "result"
   ]
  },
  {
   "cell_type": "code",
   "execution_count": null,
   "metadata": {},
   "outputs": [],
   "source": [
    "# %pip install scikit-learn"
   ]
  },
  {
   "cell_type": "code",
   "execution_count": null,
   "metadata": {},
   "outputs": [],
   "source": [
    "import torch\n",
    "from torchvision.ops import box_iou\n",
    "from sklearn.metrics import average_precision_score"
   ]
  },
  {
   "cell_type": "code",
   "execution_count": null,
   "metadata": {},
   "outputs": [],
   "source": [
    "preds = [[idx, v[-1], *v[:-1]] for idx, values in enumerate(result) for v in values]\n",
    "preds = np.array(preds, dtype=int)[:, 2:]"
   ]
  },
  {
   "cell_type": "code",
   "execution_count": null,
   "metadata": {},
   "outputs": [],
   "source": [
    "with open(args.label, 'r') as f:\n",
    "    lines = f.readlines()\n",
    "    lines = [line.strip().split() for line in lines]\n",
    "    lines = [[int(line[0]), float(line[1]), float(line[2]), float(line[3]), float(line[4])] for line in lines]\n",
    "    ground_truth = np.array(lines)\n",
    "ground_truth = np.multiply(ground_truth, [1] + args.size * 2).astype(int)[:, 1:]"
   ]
  },
  {
   "cell_type": "code",
   "execution_count": null,
   "metadata": {},
   "outputs": [],
   "source": [
    "def convert_center_to_corner(center_x, center_y, width, height):\n",
    "    left_x = center_x - (width / 2)\n",
    "    top_y = center_y - (height / 2)\n",
    "    right_x = center_x + (width / 2)\n",
    "    bottom_y = center_y + (height / 2)\n",
    "\n",
    "    return [left_x, top_y, right_x, bottom_y]"
   ]
  },
  {
   "cell_type": "code",
   "execution_count": null,
   "metadata": {},
   "outputs": [],
   "source": [
    "import numpy as np\n",
    "from PIL import Image, ImageDraw\n",
    "from matplotlib.pyplot import plt\n",
    "\n",
    "# 이미지 파일 경로 설정\n",
    "image_file_path = args.image\n",
    "\n",
    "# 넘파이 배열로 좌표 설정\n",
    "red_coordinates = np.array([[155, 100, 186, 216], [194, 400, 358, 450]])\n",
    "\n",
    "blue_coordinates = np.array([[278, 424, 169, 42]])\n",
    "\n",
    "# 이미지 파일 읽기\n",
    "image = Image.open(image_file_path)\n",
    "\n",
    "# 빨간색 박스를 그리기 위한 ImageDraw 객체 생성\n",
    "draw_red = ImageDraw.Draw(image)\n",
    "\n",
    "# 빨간색 박스 그리기\n",
    "for coord in red_coordinates:\n",
    "    x1, y1, x2, y2 = coord\n",
    "    draw_red.rectangle([x1, y1, x2, y2], outline=\"red\", width=2)\n",
    "\n",
    "# 파란색 박스를 그리기 위한 ImageDraw 객체 생성\n",
    "draw_blue = ImageDraw.Draw(image)\n",
    "\n",
    "# 파란색 박스 그리기\n",
    "for coord in blue_coordinates:\n",
    "    x1, y1, x2, y2 = convert_center_to_corner(*coord)\n",
    "    draw_blue.rectangle([x1, y1, x2, y2], outline=\"blue\", width=2)\n",
    "\n",
    "# 변경된 이미지를 저장하거나 표시\n",
    "image.save(\"output_image_with_boxes.jpg\")\n",
    "plt.imshow(image)\n",
    "plt.show()"
   ]
  },
  {
   "cell_type": "code",
   "execution_count": null,
   "metadata": {},
   "outputs": [],
   "source": []
  }
 ],
 "metadata": {
  "kernelspec": {
   "display_name": "openmmlab",
   "language": "python",
   "name": "python3"
  },
  "language_info": {
   "codemirror_mode": {
    "name": "ipython",
    "version": 3
   },
   "file_extension": ".py",
   "mimetype": "text/x-python",
   "name": "python",
   "nbconvert_exporter": "python",
   "pygments_lexer": "ipython3",
   "version": "3.7.12"
  },
  "orig_nbformat": 4
 },
 "nbformat": 4,
 "nbformat_minor": 2
}
